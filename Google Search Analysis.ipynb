{
  "cells": [
    {
      "cell_type": "markdown",
      "metadata": {
        "id": "N81Ft_3tMX4O"
      },
      "source": [
        "# install Pytrends"
      ]
    },
    {
      "cell_type": "code",
      "execution_count": null,
      "metadata": {
        "id": "taYFoTE6MX4Q",
        "outputId": "52b06298-dc2a-4bae-8695-789195f396b8"
      },
      "outputs": [
        {
          "name": "stdout",
          "output_type": "stream",
          "text": [
            "Requirement already satisfied: pytrends in c:\\users\\mhars\\anaconda3\\lib\\site-packages (4.8.0)\n",
            "Requirement already satisfied: requests>=2.0 in c:\\users\\mhars\\anaconda3\\lib\\site-packages (from pytrends) (2.24.0)\n",
            "Requirement already satisfied: pandas>=0.25 in c:\\users\\mhars\\anaconda3\\lib\\site-packages (from pytrends) (1.0.5)\n",
            "Requirement already satisfied: lxml in c:\\users\\mhars\\anaconda3\\lib\\site-packages (from pytrends) (4.5.2)\n",
            "Requirement already satisfied: urllib3!=1.25.0,!=1.25.1,<1.26,>=1.21.1 in c:\\users\\mhars\\anaconda3\\lib\\site-packages (from requests>=2.0->pytrends) (1.25.9)\n",
            "Requirement already satisfied: certifi>=2017.4.17 in c:\\users\\mhars\\anaconda3\\lib\\site-packages (from requests>=2.0->pytrends) (2020.6.20)\n",
            "Requirement already satisfied: chardet<4,>=3.0.2 in c:\\users\\mhars\\anaconda3\\lib\\site-packages (from requests>=2.0->pytrends) (3.0.4)\n",
            "Requirement already satisfied: idna<3,>=2.5 in c:\\users\\mhars\\anaconda3\\lib\\site-packages (from requests>=2.0->pytrends) (2.10)\n",
            "Requirement already satisfied: pytz>=2017.2 in c:\\users\\mhars\\anaconda3\\lib\\site-packages (from pandas>=0.25->pytrends) (2020.1)\n",
            "Requirement already satisfied: python-dateutil>=2.6.1 in c:\\users\\mhars\\anaconda3\\lib\\site-packages (from pandas>=0.25->pytrends) (2.8.1)\n",
            "Requirement already satisfied: numpy>=1.13.3 in c:\\users\\mhars\\anaconda3\\lib\\site-packages (from pandas>=0.25->pytrends) (1.18.5)\n",
            "Requirement already satisfied: six>=1.5 in c:\\users\\mhars\\anaconda3\\lib\\site-packages (from python-dateutil>=2.6.1->pandas>=0.25->pytrends) (1.15.0)\n",
            "Note: you may need to restart the kernel to use updated packages.\n"
          ]
        }
      ],
      "source": [
        "pip install pytrends"
      ]
    },
    {
      "cell_type": "code",
      "execution_count": null,
      "metadata": {
        "id": "oNYxqDFjMX4R"
      },
      "outputs": [],
      "source": [
        "#Connect to Google\n",
        "import pandas as pd\n",
        "from pytrends.request import TrendReq\n",
        "import matplotlib.pyplot as plt\n",
        "Trending_topics = TrendReq(hl='en-US', tz=360)"
      ]
    },
    {
      "cell_type": "code",
      "execution_count": null,
      "metadata": {
        "scrolled": true,
        "id": "5XaegwYmMX4S",
        "outputId": "420235cc-3b7d-440a-a692-8e66c6fde2fb"
      },
      "outputs": [
        {
          "name": "stdout",
          "output_type": "stream",
          "text": [
            "harrys\n"
          ]
        }
      ],
      "source": [
        "#Build Payload\n",
        "query=input()\n",
        "kw_list=[query]\n",
        "Trending_topics.build_payload(kw_list,cat=0, timeframe='today 12-m')"
      ]
    },
    {
      "cell_type": "code",
      "execution_count": null,
      "metadata": {
        "id": "8XDmih5FMX4S",
        "outputId": "d149c475-191a-4a50-851f-481d46f55ef5"
      },
      "outputs": [
        {
          "name": "stdout",
          "output_type": "stream",
          "text": [
            "            harrys  isPartial\n",
            "date                         \n",
            "2022-05-15     100      False\n",
            "2022-05-22      80      False\n",
            "2022-09-18      66      False\n",
            "2022-09-11      65      False\n",
            "2022-09-04      63      False\n",
            "2022-03-20      59      False\n",
            "2022-05-29      58      False\n",
            "2021-12-26      58      False\n",
            "2021-12-19      56      False\n",
            "2022-06-05      55      False\n"
          ]
        }
      ],
      "source": [
        "#Interest Over Time\n",
        "Trending_topics.build_payload(kw_list=[query],cat=0, timeframe='today 12-m')\n",
        "data = Trending_topics.interest_over_time()\n",
        "data = data.sort_values(by=query, ascending = False)\n",
        "data = data.head(10)\n",
        "print(data)\n"
      ]
    },
    {
      "cell_type": "code",
      "execution_count": null,
      "metadata": {
        "id": "LIBp55D1MX4T",
        "outputId": "3f090854-85fb-4620-9719-d3d2228f44a7"
      },
      "outputs": [
        {
          "name": "stdout",
          "output_type": "stream",
          "text": [
            "The request failed: Google returned a response with code 500.\n",
            "The request failed: Google returned a response with code 500.\n",
            "The request failed: Google returned a response with code 500.\n",
            "                     harrys  isPartial\n",
            "date                                  \n",
            "2018-01-28 00:00:00     100      False\n",
            "2018-01-20 04:00:00     100      False\n",
            "2018-01-27 18:00:00      99      False\n",
            "2018-01-21 20:00:00      92      False\n",
            "2018-01-23 21:00:00      92      False\n",
            "2018-01-19 18:00:00      88      False\n",
            "2018-01-23 17:00:00      88      False\n",
            "2018-01-24 23:00:00      84      False\n",
            "2018-01-22 00:00:00      83      False\n",
            "2018-01-24 00:00:00      83      False\n"
          ]
        }
      ],
      "source": [
        "#Historical Hour Interest\n",
        "kw_list = [query]\n",
        "Trending_topics.build_payload(kw_list)\n",
        "data = Trending_topics.get_historical_interest(\n",
        "kw_list, year_start=2018, month_start=1, day_start=1,\n",
        "hour_start=0, year_end=2018, month_end=2, day_end=1,\n",
        "hour_end=0, cat=0, geo='', gprop='', sleep=0)\n",
        "data = data.sort_values(by=query, ascending = False)\n",
        "data = data.head(10)\n",
        "print(data)"
      ]
    },
    {
      "cell_type": "code",
      "execution_count": null,
      "metadata": {
        "id": "smoe2AtXMX4U",
        "outputId": "c51e087c-0f74-4215-e81b-507736282577"
      },
      "outputs": [
        {
          "name": "stdout",
          "output_type": "stream",
          "text": [
            "                    harrys\n",
            "geoName                   \n",
            "Gibraltar              100\n",
            "Maldives                24\n",
            "Sweden                   5\n",
            "Albania                  4\n",
            "Lebanon                  4\n",
            "Ireland                  1\n",
            "United Kingdom           1\n",
            "Dominican Republic       1\n",
            "Singapore                1\n",
            "Australia                1\n"
          ]
        }
      ],
      "source": [
        "#Interest By Region\n",
        "data = Trending_topics.interest_by_region()\n",
        "data = data.sort_values(by=query,ascending = False)\n",
        "data = data.head(10)\n",
        "print(data)"
      ]
    },
    {
      "cell_type": "code",
      "execution_count": null,
      "metadata": {
        "id": "Sfzrcb_0MX4U",
        "outputId": "8a0d7c85-1393-49a9-9a91-2c9c1b5faf36"
      },
      "outputs": [
        {
          "data": {
            "image/png": "[encoded data removed]",
            "text/plain": [
              "<Figure size 720x360 with 1 Axes>"
            ]
          },
          "metadata": {
            "needs_background": "light"
          },
          "output_type": "display_data"
        }
      ],
      "source": [
        "# visualize the above data using a bar chart\n",
        "data.reset_index().plot(x='geoName', y=query,figsize=(10,5), kind=\"bar\")\n",
        "plt.style.use('fivethirtyeight')\n",
        "plt.show()"
      ]
    },
    {
      "cell_type": "code",
      "execution_count": null,
      "metadata": {
        "id": "zqC8muuqMX4V",
        "outputId": "2b6fdf94-f033-43fb-e54c-3093a67609fb"
      },
      "outputs": [
        {
          "data": {
            "text/html": [
              "<div>\n",
              "<style scoped>\n",
              "    .dataframe tbody tr th:only-of-type {\n",
              "        vertical-align: middle;\n",
              "    }\n",
              "\n",
              "    .dataframe tbody tr th {\n",
              "        vertical-align: top;\n",
              "    }\n",
              "\n",
              "    .dataframe thead th {\n",
              "        text-align: right;\n",
              "    }\n",
              "</style>\n",
              "<table border=\"1\" class=\"dataframe\">\n",
              "  <thead>\n",
              "    <tr style=\"text-align: right;\">\n",
              "      <th></th>\n",
              "      <th>title</th>\n",
              "      <th>exploreQuery</th>\n",
              "    </tr>\n",
              "  </thead>\n",
              "  <tbody>\n",
              "    <tr>\n",
              "      <th>0</th>\n",
              "      <td>Coronavirus</td>\n",
              "      <td></td>\n",
              "    </tr>\n",
              "    <tr>\n",
              "      <th>1</th>\n",
              "      <td>Election results</td>\n",
              "      <td></td>\n",
              "    </tr>\n",
              "    <tr>\n",
              "      <th>2</th>\n",
              "      <td>Kobe Bryant</td>\n",
              "      <td></td>\n",
              "    </tr>\n",
              "    <tr>\n",
              "      <th>3</th>\n",
              "      <td>Zoom</td>\n",
              "      <td></td>\n",
              "    </tr>\n",
              "    <tr>\n",
              "      <th>4</th>\n",
              "      <td>IPL</td>\n",
              "      <td></td>\n",
              "    </tr>\n",
              "    <tr>\n",
              "      <th>5</th>\n",
              "      <td>India vs New Zealand</td>\n",
              "      <td></td>\n",
              "    </tr>\n",
              "    <tr>\n",
              "      <th>6</th>\n",
              "      <td>Coronavirus update</td>\n",
              "      <td></td>\n",
              "    </tr>\n",
              "    <tr>\n",
              "      <th>7</th>\n",
              "      <td>Coronavirus symptoms</td>\n",
              "      <td></td>\n",
              "    </tr>\n",
              "    <tr>\n",
              "      <th>8</th>\n",
              "      <td>Joe Biden</td>\n",
              "      <td></td>\n",
              "    </tr>\n",
              "    <tr>\n",
              "      <th>9</th>\n",
              "      <td>Google Classroom</td>\n",
              "      <td></td>\n",
              "    </tr>\n",
              "  </tbody>\n",
              "</table>\n",
              "</div>"
            ],
            "text/plain": [
              "                  title exploreQuery\n",
              "0           Coronavirus             \n",
              "1      Election results             \n",
              "2           Kobe Bryant             \n",
              "3                  Zoom             \n",
              "4                   IPL             \n",
              "5  India vs New Zealand             \n",
              "6    Coronavirus update             \n",
              "7  Coronavirus symptoms             \n",
              "8             Joe Biden             \n",
              "9      Google Classroom             "
            ]
          },
          "execution_count": 11,
          "metadata": {},
          "output_type": "execute_result"
        }
      ],
      "source": [
        "#Top Charts(top trending searches yearly)\n",
        "df = Trending_topics.top_charts(2020, hl='en-US',tz=300, geo='GLOBAL')\n",
        "df.head(10)\n"
      ]
    },
    {
      "cell_type": "code",
      "execution_count": null,
      "metadata": {
        "id": "wAfGHfRcMX4V",
        "outputId": "10d015e5-4292-4263-b597-45f7d2356a61"
      },
      "outputs": [
        {
          "data": {
            "text/plain": [
              "dict_values([{'top':                 query  value\n",
              "0          harrys bar    100\n",
              "1       harrys razors     90\n",
              "2               harry     87\n",
              "3        harrys house     53\n",
              "4        harrys razor     43\n",
              "5         harrys menu     32\n",
              "6      harrys wedding     31\n",
              "7        harrys pizza     31\n",
              "8         harrys cafe     30\n",
              "9   harrys restaurant     29\n",
              "10       harrys shave     26\n",
              "11         harrys dad     21\n",
              "12      harrys london     20\n",
              "13       harry potter     20\n",
              "14      harrys styles     19\n",
              "15        harrys home     17\n",
              "16  harrys shave club     16\n",
              "17       harry styles     15\n",
              "18       happy harrys     15\n",
              "19     harrys seafood     15\n",
              "20       harrys horse     15\n",
              "21       prince harry     15\n",
              "22      harrys father     14\n",
              "23     harrys shaving     14\n",
              "24  prince harrys dad     13, 'rising':                         query  value\n",
              "0          harrys house vinyl  14700\n",
              "1       megan and harrys baby  11050\n",
              "2          harrys house merch  10600\n",
              "3                  harrys bcn   8100\n",
              "4        harrys rasierer test   7350\n",
              "5             harrys bar soap   7250\n",
              "6           harrys roly polys   6250\n",
              "7        prins harrys bröllop   6150\n",
              "8       harrys bar marylebone   5050\n",
              "9            harrys body wash   5050\n",
              "10           harrys bilcenter   4700\n",
              "11    harrys roly polys.co.uk   3650\n",
              "12  harrys schnitzel thornton   3400\n",
              "13  harry styles harrys house   3300\n",
              "14           harrys norrtälje   3300\n",
              "15          harrys bar galway   3150\n",
              "16          harrys dolce vita   2600\n",
              "17               harrys insel   1600\n",
              "18                harrys umeå   1350\n",
              "19               harrys ystad   1350\n",
              "20           harrys roly poly   1300\n",
              "21      prince harrys wedding   1200\n",
              "22                harrys åmål   1200\n",
              "23          harrys cafe bondy   1150\n",
              "24         harrys charbroiled   1100}])"
            ]
          },
          "execution_count": 13,
          "metadata": {},
          "output_type": "execute_result"
        }
      ],
      "source": [
        "#Related Queries\n",
        "Trending_topics.build_payload(kw_list=[query])\n",
        "related_queries = Trending_topics.related_queries()\n",
        "related_queries.values()"
      ]
    },
    {
      "cell_type": "code",
      "execution_count": null,
      "metadata": {
        "id": "wKk19OGDMX4V",
        "outputId": "17a9eed9-8cd1-409b-aad1-42764f75bf4d"
      },
      "outputs": [
        {
          "data": {
            "text/html": [
              "<div>\n",
              "<style scoped>\n",
              "    .dataframe tbody tr th:only-of-type {\n",
              "        vertical-align: middle;\n",
              "    }\n",
              "\n",
              "    .dataframe tbody tr th {\n",
              "        vertical-align: top;\n",
              "    }\n",
              "\n",
              "    .dataframe thead th {\n",
              "        text-align: right;\n",
              "    }\n",
              "</style>\n",
              "<table border=\"1\" class=\"dataframe\">\n",
              "  <thead>\n",
              "    <tr style=\"text-align: right;\">\n",
              "      <th></th>\n",
              "      <th>title</th>\n",
              "      <th>type</th>\n",
              "    </tr>\n",
              "  </thead>\n",
              "  <tbody>\n",
              "    <tr>\n",
              "      <th>0</th>\n",
              "      <td>Harrys of London</td>\n",
              "      <td>Topic</td>\n",
              "    </tr>\n",
              "    <tr>\n",
              "      <th>1</th>\n",
              "      <td>Harrys</td>\n",
              "      <td>Topic</td>\n",
              "    </tr>\n",
              "    <tr>\n",
              "      <th>2</th>\n",
              "      <td>Harry's Trees</td>\n",
              "      <td>Topic</td>\n",
              "    </tr>\n",
              "    <tr>\n",
              "      <th>3</th>\n",
              "      <td>PARQUE SANTIAGO 2</td>\n",
              "      <td>Topic</td>\n",
              "    </tr>\n",
              "    <tr>\n",
              "      <th>4</th>\n",
              "      <td>A Cosmology of Monsters: A Novel</td>\n",
              "      <td>Topic</td>\n",
              "    </tr>\n",
              "  </tbody>\n",
              "</table>\n",
              "</div>"
            ],
            "text/plain": [
              "                              title   type\n",
              "0                  Harrys of London  Topic\n",
              "1                            Harrys  Topic\n",
              "2                     Harry's Trees  Topic\n",
              "3                 PARQUE SANTIAGO 2  Topic\n",
              "4  A Cosmology of Monsters: A Novel  Topic"
            ]
          },
          "execution_count": 14,
          "metadata": {},
          "output_type": "execute_result"
        }
      ],
      "source": [
        "#Keyword Suggestions\n",
        "keywords = Trending_topics.suggestions(keyword=query)\n",
        "df = pd.DataFrame(keywords)\n",
        "df.drop(columns= 'mid')"
      ]
    },
    {
      "cell_type": "code",
      "execution_count": null,
      "metadata": {
        "id": "Ugp1fdJJMX4W",
        "outputId": "90f7005d-9e58-474a-b7ae-5b80ed1d1e75"
      },
      "outputs": [
        {
          "data": {
            "image/png": "[encoded data removed]",
            "text/plain": [
              "<Figure size 432x288 with 1 Axes>"
            ]
          },
          "metadata": {},
          "output_type": "display_data"
        }
      ],
      "source": [
        "data = TrendReq(hl='en-US',tz=360)\n",
        "data.build_payload(kw_list = [query])\n",
        "data = data.interest_over_time()\n",
        "data.plot()\n",
        "plt.title('Google search analysis for the input', fontweight='bold')\n",
        "plt.xlabel('Year')\n",
        "plt.ylabel('Count')\n",
        "plt.style.use('fivethirtyeight')\n",
        "plt.show()"
      ]
    },
    {
      "cell_type": "code",
      "execution_count": null,
      "metadata": {
        "id": "_4Q8TWoqMX4W"
      },
      "outputs": [],
      "source": []
    }
  ],
  "metadata": {
    "kernelspec": {
      "display_name": "Python 3",
      "language": "python",
      "name": "python3"
    },
    "language_info": {
      "codemirror_mode": {
        "name": "ipython",
        "version": 3
      },
      "file_extension": ".py",
      "mimetype": "text/x-python",
      "name": "python",
      "nbconvert_exporter": "python",
      "pygments_lexer": "ipython3",
      "version": "3.8.3"
    },
    "colab": {
      "provenance": []
    }
  },
  "nbformat": 4,
  "nbformat_minor": 0
}